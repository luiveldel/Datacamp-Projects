{
 "cells": [
  {
   "cell_type": "markdown",
   "id": "d198c645",
   "metadata": {},
   "source": [
    "# Predicting Cancellation Rates\n",
    "\n",
    "In this notebook, you will build a machine learning model to predict whether or not a customer cancelled a hotel booking. You will be introduced to the `scikit-learn` framework to do machine learning in Python. \n",
    "\n",
    "We will use a dataset on hotel bookings from the article [\"Hotel booking demand datasets\"](https://www.sciencedirect.com/science/article/pii/S2352340918315191), published in the Elsevier journal, [Data in Brief](https://www.sciencedirect.com/journal/data-in-brief). The abstract of the article states \n",
    "\n",
    "> This data article describes two datasets with hotel demand data. One of the hotels (H1) is a resort hotel and the other is a city hotel (H2). Both datasets share the same structure, with 31 variables describing the 40,060 observations of H1 and 79,330 observations of H2. Each observation represents a hotel booking. Both datasets comprehend bookings due to arrive between the 1st of July of 2015 and the 31st of August 2017, including bookings that effectively arrived and bookings that were canceled. \n",
    "\n",
    "For convenience, the two datasets have been combined into a single csv file `data/hotel_bookings.csv`. Let us start by importing all the functions needed to import, visualize and model the data."
   ]
  },
  {
   "cell_type": "code",
   "execution_count": null,
   "id": "a31df574",
   "metadata": {},
   "outputs": [],
   "source": [
    "# Data imports\n",
    "import pandas as pd\n",
    "import numpy as np\n",
    "\n",
    "# Visualization imports\n",
    "import matplotlib.pyplot as plt\n",
    "import plotly.express as px\n",
    "plt.rcParams['figure.figsize'] = [8, 4]\n",
    "\n",
    "\n",
    "# ML Imports\n",
    "from sklearn.model_selection import train_test_split, KFold, cross_validate, cross_val_score\n",
    "from sklearn.pipeline import Pipeline\n",
    "from sklearn.compose import ColumnTransformer\n",
    "from sklearn.preprocessing import LabelEncoder, OneHotEncoder\n",
    "from sklearn.impute import SimpleImputer\n",
    "from sklearn.ensemble import RandomForestClassifier\n",
    "from sklearn.tree import DecisionTreeClassifier\n",
    "from sklearn.metrics import accuracy_score"
   ]
  },
  {
   "cell_type": "markdown",
   "id": "3b889068",
   "metadata": {},
   "source": [
    "## 0. Get the data\n",
    "\n",
    "The first step in any machine learning workflow is to get the data and explore it."
   ]
  },
  {
   "cell_type": "code",
   "execution_count": null,
   "id": "a180c11a",
   "metadata": {},
   "outputs": [],
   "source": [
    "hotel_bookings = pd.read_csv('data/hotel_bookings.csv')\n",
    "hotel_bookings.head()"
   ]
  },
  {
   "cell_type": "markdown",
   "id": "b1afb703",
   "metadata": {},
   "source": [
    "Let us look at the number of bookings by month."
   ]
  },
  {
   "cell_type": "code",
   "execution_count": null,
   "id": "317726e8",
   "metadata": {},
   "outputs": [],
   "source": [
    "bookings_by_month = hotel_bookings.groupby('arrival_date_month', as_index=False)[['hotel']].count().rename(columns={\"hotel\": \"nb_bookings\"})\n",
    "months = ['January', 'February', 'March', 'April', 'May', 'June', 'July', 'August', 'September', 'October', 'November', 'December'] \n",
    "fig = px.bar(\n",
    "    bookings_by_month, \n",
    "    x='arrival_date_month', \n",
    "    y='nb_bookings', \n",
    "    title=f'Hotel Bookings by Month', \n",
    "    category_orders={\"arrival_date_month\": months}\n",
    ")\n",
    "fig.show(config={\"displayModeBar\": False})"
   ]
  },
  {
   "cell_type": "markdown",
   "id": "181460ae",
   "metadata": {},
   "source": [
    "Our objective is to build a model that predicts whether or not a user cancelled a hotel booking.\n",
    "\n",
    "## 1. Split the data into training and test sets.\n",
    "\n",
    "Let us start by defining a split to divide the data into training and test sets. The basic idea is to train the model on a portion of the data and test its performance on the other portion that has not been seen by the model. This is done in order to prevent __overfitting__. We will use four-fold cross validation with shuffling."
   ]
  },
  {
   "cell_type": "code",
   "execution_count": null,
   "id": "07b0720a",
   "metadata": {},
   "outputs": [],
   "source": [
    "split = KFold(n_splits=4, shuffle=True, random_state=1234)"
   ]
  },
  {
   "cell_type": "markdown",
   "id": "903c94b0",
   "metadata": {},
   "source": [
    "## 2. Choose a class of models, and hyperparameters.\n",
    "\n",
    "The next step is to choose a class of models and specify hyperparameters. This is just for starters and we will see later how we can specify a range of values for hyperparameters and tune the model for optimal performance! We will pick the simple, yet very effective Decision Tree and Random Forest models.\n",
    "We will use `scikit-learn` to fit the models and evaluate their performance."
   ]
  },
  {
   "cell_type": "code",
   "execution_count": null,
   "id": "8f730b45",
   "metadata": {},
   "outputs": [],
   "source": [
    "from IPython.display import Image\n",
    "Image(\"http://scikit-learn.org/dev/_static/ml_map.png\", width=750)"
   ]
  },
  {
   "cell_type": "code",
   "execution_count": null,
   "id": "1fab90b5",
   "metadata": {},
   "outputs": [],
   "source": [
    "models = [\n",
    "  (\"Decision Tree\", DecisionTreeClassifier(random_state=1234)),\n",
    "  (\"Random Forest\", RandomForestClassifier(random_state=1234,n_jobs=-1)),\n",
    "]"
   ]
  },
  {
   "cell_type": "markdown",
   "id": "067f9a56",
   "metadata": {},
   "source": [
    "## 3. Preprocess the data\n",
    "\n",
    "The next step is to set up a pipeline to preprocess the features. We will impute all missing values with a constant, and one-hot encode all categorical features."
   ]
  },
  {
   "cell_type": "code",
   "execution_count": null,
   "id": "72caef8f",
   "metadata": {},
   "outputs": [],
   "source": [
    "# Preprocess numerical features:\n",
    "features_num = [\n",
    "    \"lead_time\", \"arrival_date_week_number\", \"arrival_date_day_of_month\", \"stays_in_weekend_nights\",\n",
    "    \"stays_in_week_nights\", \"adults\", \"children\", \"babies\", \"is_repeated_guest\" ,\n",
    "    \"previous_cancellations\", \"previous_bookings_not_canceled\", \"agent\", \"company\", \n",
    "    \"required_car_parking_spaces\", \"total_of_special_requests\", \"adr\"\n",
    "]\n",
    "transformer_num = SimpleImputer(strategy=\"constant\")\n",
    "\n",
    "# Preprocess categorical features:\n",
    "features_cat = [\n",
    "    \"hotel\", \"arrival_date_month\", \"meal\", \"market_segment\", \"distribution_channel\", \n",
    "    \"reserved_room_type\", \"deposit_type\", \"customer_type\"\n",
    "]\n",
    "transformer_cat = Pipeline(steps=[\n",
    "    (\"imputer\", SimpleImputer(strategy=\"constant\", fill_value=\"Unknown\")),\n",
    "    (\"onehot\", OneHotEncoder(handle_unknown='ignore'))\n",
    "])\n",
    "\n",
    "# Create a preprocessing pipeline\n",
    "preprocessor = ColumnTransformer(transformers=[\n",
    "    (\"num\", transformer_num, features_num),\n",
    "    (\"cat\", transformer_cat, features_cat)\n",
    "])"
   ]
  },
  {
   "cell_type": "markdown",
   "id": "e3954110",
   "metadata": {},
   "source": [
    "## 4. Fit the models and evaluate performance\n",
    "\n",
    "Finally, we will fit the Decision Tree and Random Forest models on the training data and use 4-fold cross-validation to evaluate their performance."
   ]
  },
  {
   "cell_type": "code",
   "execution_count": null,
   "id": "b803a1fb",
   "metadata": {},
   "outputs": [],
   "source": [
    "features = features_num + features_cat\n",
    "X = hotel_bookings[features]\n",
    "y = hotel_bookings[\"is_canceled\"]"
   ]
  },
  {
   "cell_type": "code",
   "execution_count": null,
   "id": "a5886ba9",
   "metadata": {},
   "outputs": [],
   "source": [
    "for name, model in models:\n",
    "    # Compose data preprocessing and model into a single pipeline\n",
    "    steps = Pipeline(steps=[\n",
    "        ('preprocessor', preprocessor),\n",
    "        ('model', model)\n",
    "    ])\n",
    "    \n",
    "    # Compute cross validation accuracy for each model\n",
    "    cv_results = cross_val_score(steps, X, y, cv=split, scoring=\"accuracy\", n_jobs=-1)\n",
    "    \n",
    "    # output:\n",
    "    min_score = round(np.min(cv_results), 4)\n",
    "    max_score = round(np.max(cv_results), 4)\n",
    "    mean_score = round(np.mean(cv_results), 4)\n",
    "    std_dev = round(np.std(cv_results), 4)\n",
    "    print(f\"[{name}] Cross Validation Accuarcy Score: {mean_score} +/- {std_dev} (std) min: {min_score}, max: {max_score}\")"
   ]
  },
  {
   "cell_type": "markdown",
   "id": "0cb6fa00",
   "metadata": {},
   "source": [
    "## Data Dictionary\n",
    "\n",
    "|variable                        |class       |description                                                                                      |\n",
    "|:-------------------------------|:-----------|:------------------------------------------------------------------------------------------------|\n",
    "|adr                             |numeric     |Average daily rate                                                                               |\n",
    "|adults                          |integer     |Number of adults                                                                                 |\n",
    "|agent                           |categorical |The id of the travel agency                                                                      |\n",
    "|arrival_date_day_of_month       |integer     |Day of the month of the arrival date                                                             |\n",
    "|arrival_date_month              |categorical |Month of arrival date with 12 categories: “January” to “December”                                |\n",
    "|arrival_date_week_number        |integer     |Week number of the arrival date                                                                  |\n",
    "|arrival_date_year               |integer     |Year of arrival date                                                                             |\n",
    "|assigned_room_type              |categorical |The code for type of room assigned                                                               |\n",
    "|babies                          |integer     |Number of babies                                                                                 |\n",
    "|booking_changes                 |integer     |The number of changes made to the booking                                                        |\n",
    "|children                        |integer     |Number of children                                                                               |\n",
    "|company                         |categorical |The id of the company making the booking                                                         |\n",
    "|country                         |categorical |The country of originin ISO 3155-3:2013 format                                                   |\n",
    "|customer_type                   |categorical |The type of booking: Contract / Group / Transient / Transient-Party                              |\n",
    "|days_in_waiting_list            |integer     |The number of days the booking was in the waiting list                                           |\n",
    "|deposit_type                    |categorical |The type of deposit: No Deposit / Non Refund / Refundable                                        |\n",
    "|distribution_channel            |categorical |The booking distribution channel: TA / TO etc.                                                   |\n",
    "|is_cancelled                    |categorical |A boolean indicating if the booking was cancelled (1) or not (0)                                 |\n",
    "|is_repeated_guest               |categorical |A boolean indicating if it was a repeated guest (1) or not (0)                                   |\n",
    "|lead_time                       |integer     |The number of days between the booking date and arrival date                                     |\n",
    "|market_segment                  |categorical |A designation for the market segment: TA. TO                                                     |\n",
    "|meal                            |categorical |The type of meal booked: Bed & Breakfast (BB), Half Board (HB), and Full Board (FB)              |\n",
    "|previous_bookings_not_cancelled |integer     |The number of previous bookings not cancelled by the customer prior to the current booking       |\n",
    "|previous_cancellations          |integer     |The number of previous bookings that were cancelled by the customer prior to the current booking |\n",
    "|required_car_parking_spaces     |integer     |The number of car parking spaces required by the customer                                        |\n",
    "|reservation_status              |categorical |The last status of the reservation: Canceled / Check-Out / No-Show                               |\n",
    "|reservation_status_date         |date        |The date at which the last status was set.                                                       |\n",
    "|reserved_room_type              |categorical |The code of room type reserved.                                                                  |\n",
    "|stays_in_weekend_nights         |integer     |The number of weekend nights stayed or booked to stay                                            |\n",
    "|stays_in_week_nights            |integer     |The number of week nights stayed or booked to stay                                               |\n",
    "|total_of_special_requests       |integer     |The number of special requests made by the customer                                              |"
   ]
  }
 ],
 "metadata": {
  "kernelspec": {
   "display_name": "Python 3 (ipykernel)",
   "language": "python",
   "name": "python3"
  },
  "language_info": {
   "codemirror_mode": {
    "name": "ipython",
    "version": 3
   },
   "file_extension": ".py",
   "mimetype": "text/x-python",
   "name": "python",
   "nbconvert_exporter": "python",
   "pygments_lexer": "ipython3",
   "version": "3.8.10"
  }
 },
 "nbformat": 4,
 "nbformat_minor": 5
}
